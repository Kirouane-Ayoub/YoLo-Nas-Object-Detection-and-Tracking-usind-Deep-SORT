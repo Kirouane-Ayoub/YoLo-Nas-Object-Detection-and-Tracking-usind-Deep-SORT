{
  "nbformat": 4,
  "nbformat_minor": 0,
  "metadata": {
    "colab": {
      "provenance": [],
      "gpuType": "T4"
    },
    "kernelspec": {
      "name": "python3",
      "display_name": "Python 3"
    },
    "language_info": {
      "name": "python"
    },
    "accelerator": "GPU"
  },
  "cells": [
    {
      "cell_type": "code",
      "execution_count": null,
      "metadata": {
        "id": "kCMN1mIv7Plf"
      },
      "outputs": [],
      "source": [
        "!pip install -q super-gradients==3.1.3 filterpy==1.1.0"
      ]
    },
    {
      "cell_type": "code",
      "source": [
        "import cv2\n",
        "import torch\n",
        "from super_gradients.training import models\n",
        "import numpy as np\n",
        "import math"
      ],
      "metadata": {
        "id": "YTmulFRb7WxW"
      },
      "execution_count": null,
      "outputs": []
    },
    {
      "cell_type": "code",
      "source": [
        "device=torch.device(\"cuda:0\") if torch.cuda.is_available() else torch.device(\"cpu\")\n",
        "model=models.get('yolo_nas_s', pretrained_weights=\"coco\").to(device)"
      ],
      "metadata": {
        "id": "O6kAzsjY7aJU"
      },
      "execution_count": null,
      "outputs": []
    },
    {
      "cell_type": "code",
      "source": [
        "!wget --load-cookies /tmp/cookies.txt \"https://docs.google.com/uc?export=download&confirm=$(wget --quiet --save-cookies /tmp/cookies.txt --keep-session-cookies --no-check-certificate 'https://docs.google.com/uc?export=download&id=1pz68D1Gsx80MoPg-_q-IbEdESEmyVLm-' -O- | sed -rn 's/.*confirm=([0-9A-Za-z_]+).*/\\1\\n/p')&id=1pz68D1Gsx80MoPg-_q-IbEdESEmyVLm-\" -O vehicle-counting.mp4 && rm -rf /tmp/cookies.txt"
      ],
      "metadata": {
        "id": "8tUAyPkp7chk"
      },
      "execution_count": null,
      "outputs": []
    },
    {
      "cell_type": "code",
      "source": [
        "cap = cv2.VideoCapture(\"/content/vehicle-counting.mp4\")"
      ],
      "metadata": {
        "id": "LPB8_Bsb7gLg"
      },
      "execution_count": null,
      "outputs": []
    },
    {
      "cell_type": "code",
      "source": [
        "names = [ 'person', 'bicycle', 'car', 'motorbike', 'aeroplane', 'bus',\n",
        "                'train', 'truck', 'boat', 'traffic light', 'fire hydrant', 'stop sign',\n",
        "                'parking meter', 'bench', 'bird', 'cat', 'dog', 'horse', 'sheep', 'cow',\n",
        "                'elephant', 'bear', 'zebra', 'giraffe', 'backpack', 'umbrella', 'handbag',\n",
        "                'tie', 'suitcase', 'frisbee', 'skis', 'snowboard', 'sports ball', 'kite',\n",
        "                'baseball bat', 'baseball glove', 'skateboard', 'surfboard', 'tennis racket',\n",
        "                'bottle', 'wine glass', 'cup', 'fork', 'knife', 'spoon', 'bowl', 'banana',\n",
        "                'apple', 'sandwich', 'orange', 'broccoli', 'carrot', 'hot dog', 'pizza', 'donut',\n",
        "                'cake', 'chair', 'sofa', 'pottedplant', 'bed', 'diningtable', 'toilet', 'tvmonitor',\n",
        "                'laptop', 'mouse', 'remote', 'keyboard', 'cell phone', 'microwave', 'oven', 'toaster',\n",
        "                'sink', 'refrigerator', 'book', 'clock', 'vase',\n",
        "                'scissors', 'teddy bear', 'hair drier', 'toothbrush']"
      ],
      "metadata": {
        "id": "1rOMAUa07iOG"
      },
      "execution_count": null,
      "outputs": []
    },
    {
      "cell_type": "code",
      "source": [
        "width = int(cap.get(cv2.CAP_PROP_FRAME_WIDTH))\n",
        "height = int(cap.get(cv2.CAP_PROP_FRAME_HEIGHT))\n",
        "out=cv2.VideoWriter('output1.avi', cv2.VideoWriter_fourcc('M', 'J', 'P', 'G'), 20, (width, height))"
      ],
      "metadata": {
        "id": "uBs8PhjM7vcb"
      },
      "execution_count": null,
      "outputs": []
    },
    {
      "cell_type": "code",
      "source": [
        "!gdown \"https://drive.google.com/uc?id=11ZSZcG-bcbueXZC3rN08CM0qqX3eiHxf&confirm=t\"\n",
        "! unzip /content/deep_sort_pytorch.zip"
      ],
      "metadata": {
        "id": "IymjIKoB70kO"
      },
      "execution_count": null,
      "outputs": []
    },
    {
      "cell_type": "code",
      "source": [
        "from deep_sort_pytorch.utils.parser import get_config\n",
        "from deep_sort_pytorch.deep_sort import DeepSort"
      ],
      "metadata": {
        "id": "xZrYTu3D71HR"
      },
      "execution_count": null,
      "outputs": []
    },
    {
      "cell_type": "code",
      "source": [
        "cfg_deep = get_config()\n",
        "cfg_deep.merge_from_file(\"/content/deep_sort_pytorch/configs/deep_sort.yaml\")\n",
        "deepsort = DeepSort(cfg_deep.DEEPSORT.REID_CKPT,\n",
        "                    max_dist=cfg_deep.DEEPSORT.MAX_DIST, min_confidence=cfg_deep.DEEPSORT.MIN_CONFIDENCE,\n",
        "                    nms_max_overlap=cfg_deep.DEEPSORT.NMS_MAX_OVERLAP,\n",
        "                    max_iou_distance=cfg_deep.DEEPSORT.MAX_IOU_DISTANCE,\n",
        "                    max_age=cfg_deep.DEEPSORT.MAX_AGE, n_init=cfg_deep.DEEPSORT.N_INIT,\n",
        "                    nn_budget=cfg_deep.DEEPSORT.NN_BUDGET,\n",
        "                    use_cuda=True)"
      ],
      "metadata": {
        "id": "mT5cRUBh75V6"
      },
      "execution_count": null,
      "outputs": []
    },
    {
      "cell_type": "code",
      "source": [
        "palette = (2 ** 11 - 1, 2 ** 15 - 1, 2 ** 20 - 1)\n",
        "\n",
        "def compute_color_for_labels(label):\n",
        "  \"\"\"\n",
        "  Simple function that adds fixed color depending on the class\n",
        "  \"\"\"\n",
        "  if label == 0: #person\n",
        "      color = (85,45,255)\n",
        "  elif label == 2: # Car\n",
        "      color = (222,82,175)\n",
        "  elif label == 3:  # Motobike\n",
        "      color = (0, 204, 255)\n",
        "  elif label == 5:  # Bus\n",
        "      color = (0, 149, 255)\n",
        "  else:\n",
        "      color = [int((p * (label ** 2 - label + 1)) % 255) for p in palette]\n",
        "  return tuple(color)"
      ],
      "metadata": {
        "id": "Qh0qc3ST775g"
      },
      "execution_count": null,
      "outputs": []
    },
    {
      "cell_type": "code",
      "source": [
        "def draw_boxes(img, bbox, identities=None, categories=None, names=None, offset=(0,0)):\n",
        "    for i, box in enumerate(bbox):\n",
        "        x1, y1,  x2, y2 = [int(i) for i in box]\n",
        "        x1 += offset[0]\n",
        "        x2 += offset[0]\n",
        "        y1 += offset[0]\n",
        "        y2 += offset[0]\n",
        "        cat = int(categories[i]) if categories is not None else 0\n",
        "        id = int(identities[i]) if identities is not None else 0\n",
        "        cv2.rectangle(img, (x1, y1), (x2, y2), color= compute_color_for_labels(cat),thickness=2, lineType=cv2.LINE_AA)\n",
        "        label = str(id) + \":\" + names[cat]\n",
        "        (w,h), _ = cv2.getTextSize(str(label), cv2.FONT_HERSHEY_SIMPLEX, fontScale=1/2, thickness=1)\n",
        "        t_size=cv2.getTextSize(str(label), cv2.FONT_HERSHEY_SIMPLEX, fontScale=1/2, thickness=1)[0]\n",
        "        c2=x1+t_size[0], y1-t_size[1]-3\n",
        "        cv2.rectangle(frame, (x1, y1), c2, color=compute_color_for_labels(cat), thickness=-1, lineType=cv2.LINE_AA)\n",
        "        cv2.putText(frame, str(label), (x1, y1-2), 0, 1/2, [255, 255, 255], thickness=1, lineType=cv2.LINE_AA)\n",
        "    return img"
      ],
      "metadata": {
        "id": "t826FMfl7-gj"
      },
      "execution_count": null,
      "outputs": []
    },
    {
      "cell_type": "code",
      "source": [
        "output=cv2.VideoWriter('output2.avi',\n",
        "                       cv2.VideoWriter_fourcc('M', 'J', 'P', 'G'), 20,\n",
        "                        (width, height))\n",
        "while True:\n",
        "  xywh_bboxs = []\n",
        "  confs = []\n",
        "  oids = []\n",
        "  ret, frame = cap.read()\n",
        "  if ret:\n",
        "    result = list(model.predict(frame, conf=0.5))[0]\n",
        "    bbox_xyxys = result.prediction.bboxes_xyxy.tolist()\n",
        "    confidences = result.prediction.confidence\n",
        "    labels = result.prediction.labels.tolist()\n",
        "    for (bbox_xyxy, confidence, cls) in zip(bbox_xyxys, confidences, labels):\n",
        "        bbox = np.array(bbox_xyxy)\n",
        "        x1, y1, x2, y2 = bbox[0], bbox[1], bbox[2], bbox[3]\n",
        "        x1, y1, x2, y2 = int(x1), int(y1), int(x2), int(y2)\n",
        "        conf = math.ceil((confidence*100))/100\n",
        "        cx, cy = int((x1+x2)/2), int((y1+y2)/2)\n",
        "        bbox_width = abs(x1-x2)\n",
        "        bbox_height = abs(y1-y2)\n",
        "        xcycwh = [cx, cy, bbox_width, bbox_height]\n",
        "        xywh_bboxs.append(xcycwh)\n",
        "        confs.append(conf)\n",
        "        oids.append(int(cls))\n",
        "    xywhs = torch.tensor(xywh_bboxs)\n",
        "    confss= torch.tensor(confs)\n",
        "    outputs = deepsort.update(xywhs, confss, oids, frame)\n",
        "    if len(outputs)>0:\n",
        "        bbox_xyxy = outputs[:,:4]\n",
        "        identities = outputs[:, -2]\n",
        "        object_id = outputs[:, -1]\n",
        "        draw_boxes(frame, bbox_xyxy, identities, object_id , names=names)\n",
        "    output.write(frame)\n",
        "  else:\n",
        "      break"
      ],
      "metadata": {
        "id": "tA8_fJ3l8BNn"
      },
      "execution_count": null,
      "outputs": []
    }
  ]
}